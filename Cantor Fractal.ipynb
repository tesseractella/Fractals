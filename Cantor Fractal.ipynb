{
 "cells": [
  {
   "cell_type": "markdown",
   "id": "5e07020b",
   "metadata": {},
   "source": [
    "The Cantor fractal is produced by splitting a line segment into thirds recursively. The Cantor set is easily graphed recursively with Python, but mathematically defined as the attractor of an IFS on $R$ defined by $F = \\{f_{1}, f_{2}\\}$ for $f_{1}(x) = x/3$ and $f_{2}(x) = x/3 + 2/3$. The IFS $F$ is a totally disconnected set since the $C_{0}$= [0, 1] is a nice, compact set, i.e. $f_{1}(C)\\cap f_{2}(C) = \\emptyset$"
   ]
  },
  {
   "cell_type": "code",
   "execution_count": 4,
   "id": "54bfe149",
   "metadata": {},
   "outputs": [],
   "source": [
    "import numpy as np\n",
    "import matplotlib.pyplot as plt"
   ]
  },
  {
   "cell_type": "code",
   "execution_count": 10,
   "id": "a81d5c72",
   "metadata": {},
   "outputs": [],
   "source": [
    "#define the recursive function on the line segment\n",
    "def Cantor(line, level= 0):\n",
    "    plt.plot(line, [level, level], color = 'k', lw = 5, solid_capstyle = 'butt')\n",
    "    if level < depth:\n",
    "        s = np.linspace(line[0], line[1], 4) #4 points splits the line segment into thirds\n",
    "        Cantor(s[:2], level +1)\n",
    "        Cantor(s[2:], level+1)"
   ]
  },
  {
   "cell_type": "code",
   "execution_count": 11,
   "id": "6954a792",
   "metadata": {},
   "outputs": [
    {
     "data": {
      "image/png": "[encoded data removed]",
      "text/plain": [
       "<Figure size 640x480 with 1 Axes>"
      ]
     },
     "metadata": {},
     "output_type": "display_data"
    }
   ],
   "source": [
    "line = [0, 1]\n",
    "depth = 5\n",
    "\n",
    "Cantor(line)\n",
    "plt.gca().invert_yaxis()\n",
    "plt.show()"
   ]
  },
  {
   "cell_type": "markdown",
   "id": "61b285f4",
   "metadata": {},
   "source": [
    "While the above function recursively defines the Cantor set, we show below that it can be modeled using the functions $f_{1}$ and $f_{2}$ as defined above"
   ]
  },
  {
   "cell_type": "code",
   "execution_count": 17,
   "id": "c54ec0d6",
   "metadata": {},
   "outputs": [],
   "source": [
    "def f1(x):\n",
    "    return x/3\n",
    "\n",
    "def f2(x):\n",
    "    return x/3 +2/3\n",
    "\n",
    "def F(x):\n",
    "    return [f1(x[0]), f1(x[1])], [f2(x[0]), f2(x[1])]"
   ]
  },
  {
   "cell_type": "code",
   "execution_count": 18,
   "id": "d494bb3e",
   "metadata": {},
   "outputs": [
    {
     "data": {
      "image/png": "[encoded data removed]",
      "text/plain": [
       "<Figure size 640x480 with 1 Axes>"
      ]
     },
     "metadata": {},
     "output_type": "display_data"
    }
   ],
   "source": [
    "# line = [[0, 1]]\n",
    "# depth = 5\n",
    "# i=0\n",
    "# plt.plot(line, [i, i], color = 'k', lw = 5, solid_capstyle = 'butt')\n",
    "# i = i+1\n",
    "\n",
    "# while i <= depth:\n",
    "#     for j in len(line):\n",
    "#         plt.plot(F(line)[j], [i, i], color = 'k', lw = 5, solid_capstyle = 'butt')\n",
    "#         line.append(F(line)[j])\n",
    "#         line.pop()\n",
    "#         line.append(F(line))\n",
    "    \n",
    "#     i = i+1\n",
    "    \n",
    "# plt.gca().invert_yaxis()\n",
    "# plt.show()"
   ]
  },
  {
   "cell_type": "code",
   "execution_count": null,
   "id": "eb9e037b",
   "metadata": {},
   "outputs": [],
   "source": []
  }
 ],
 "metadata": {
  "kernelspec": {
   "display_name": "Python 3 (ipykernel)",
   "language": "python",
   "name": "python3"
  },
  "language_info": {
   "codemirror_mode": {
    "name": "ipython",
    "version": 3
   },
   "file_extension": ".py",
   "mimetype": "text/x-python",
   "name": "python",
   "nbconvert_exporter": "python",
   "pygments_lexer": "ipython3",
   "version": "3.9.16"
  }
 },
 "nbformat": 4,
 "nbformat_minor": 5
}
